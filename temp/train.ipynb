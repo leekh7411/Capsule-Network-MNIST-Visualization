{
 "cells": [
  {
   "cell_type": "code",
   "execution_count": 10,
   "metadata": {},
   "outputs": [],
   "source": [
    "import os\n",
    "os.environ[\"CUDA_VISIBLE_DEVICES\"]=\"-1\""
   ]
  },
  {
   "cell_type": "code",
   "execution_count": 1,
   "metadata": {},
   "outputs": [
    {
     "name": "stderr",
     "output_type": "stream",
     "text": [
      "/usr/local/lib/python3.5/dist-packages/h5py/__init__.py:36: FutureWarning:\n",
      "\n",
      "Conversion of the second argument of issubdtype from `float` to `np.floating` is deprecated. In future, it will be treated as `np.float64 == np.dtype(float).type`.\n",
      "\n",
      "Using TensorFlow backend.\n"
     ]
    }
   ],
   "source": [
    "import plotly\n",
    "import numpy as np\n",
    "from keras import layers, models, optimizers, callbacks\n",
    "from keras import backend as K\n",
    "from keras.utils import to_categorical\n",
    "import matplotlib.pyplot as plt\n",
    "from utils import combine_images\n",
    "from PIL import Image\n",
    "from capsule_layers import CapsuleLayer, PrimaryCap, Length, Mask\n",
    "from capsule_network import CapsNet, margin_loss"
   ]
  },
  {
   "cell_type": "code",
   "execution_count": 2,
   "metadata": {},
   "outputs": [],
   "source": [
    "epochs = 50\n",
    "batch_size = 100\n",
    "lr = 0.001\n",
    "lr_decay = 0.9\n",
    "lam_recon = 0.392\n",
    "routing = 3\n",
    "shift_fraction = 0.1\n",
    "model_path = 'models/model-2d.h5'\n",
    "digits = 10\n",
    "saved_weights = None"
   ]
  },
  {
   "cell_type": "code",
   "execution_count": 3,
   "metadata": {},
   "outputs": [],
   "source": [
    "def load_mnist():\n",
    "    # the data, shuffled and split between train and test sets\n",
    "    from keras.datasets import mnist\n",
    "    (x_train, y_train), (x_test, y_test) = mnist.load_data()\n",
    "\n",
    "    x_train = x_train.reshape(-1, 28, 28, 1).astype('float32') / 255.\n",
    "    x_test = x_test.reshape(-1, 28, 28, 1).astype('float32') / 255.\n",
    "    y_train = to_categorical(y_train.astype('float32'))\n",
    "    y_test = to_categorical(y_test.astype('float32'))\n",
    "    return (x_train, y_train), (x_test, y_test)\n",
    "\n",
    "# load data\n",
    "(x_train, y_train), (x_test, y_test) = load_mnist()"
   ]
  },
  {
   "cell_type": "code",
   "execution_count": 4,
   "metadata": {},
   "outputs": [],
   "source": [
    "# define model\n",
    "model, eval_model, _ = CapsNet(input_shape=x_train.shape[1:],\n",
    "                                              n_class=len(np.unique(np.argmax(y_train, 1))),\n",
    "                                              routings=routing)"
   ]
  },
  {
   "cell_type": "code",
   "execution_count": 5,
   "metadata": {},
   "outputs": [
    {
     "name": "stdout",
     "output_type": "stream",
     "text": [
      "__________________________________________________________________________________________________\n",
      "Layer (type)                    Output Shape         Param #     Connected to                     \n",
      "==================================================================================================\n",
      "input_1 (InputLayer)            (None, 28, 28, 1)    0                                            \n",
      "__________________________________________________________________________________________________\n",
      "conv1 (Conv2D)                  (None, 20, 20, 256)  20992       input_1[0][0]                    \n",
      "__________________________________________________________________________________________________\n",
      "primarycap_conv2d (Conv2D)      (None, 6, 6, 256)    5308672     conv1[0][0]                      \n",
      "__________________________________________________________________________________________________\n",
      "primarycap_reshape (Reshape)    (None, 1152, 8)      0           primarycap_conv2d[0][0]          \n",
      "__________________________________________________________________________________________________\n",
      "primarycap_squash (Lambda)      (None, 1152, 8)      0           primarycap_reshape[0][0]         \n",
      "__________________________________________________________________________________________________\n",
      "digitcaps (CapsuleLayer)        (None, 10, 2)        184320      primarycap_squash[0][0]          \n",
      "__________________________________________________________________________________________________\n",
      "input_2 (InputLayer)            (None, 10)           0                                            \n",
      "__________________________________________________________________________________________________\n",
      "mask_1 (Mask)                   (None, 20)           0           digitcaps[0][0]                  \n",
      "                                                                 input_2[0][0]                    \n",
      "__________________________________________________________________________________________________\n",
      "capsnet (Length)                (None, 10)           0           digitcaps[0][0]                  \n",
      "__________________________________________________________________________________________________\n",
      "decoder (Sequential)            (None, 28, 28, 1)    1339664     mask_1[0][0]                     \n",
      "==================================================================================================\n",
      "Total params: 6,853,648\n",
      "Trainable params: 6,853,648\n",
      "Non-trainable params: 0\n",
      "__________________________________________________________________________________________________\n"
     ]
    }
   ],
   "source": [
    "model.summary()"
   ]
  },
  {
   "cell_type": "code",
   "execution_count": 6,
   "metadata": {},
   "outputs": [],
   "source": [
    "checkpoint = callbacks.ModelCheckpoint(model_path, \n",
    "                                       monitor='val_capsnet_acc', \n",
    "                                       save_best_only=True, \n",
    "                                       save_weights_only=True, \n",
    "                                       verbose=1)\n",
    "earlystopper = callbacks.EarlyStopping(monitor='val_capsnet_acc', patience=3, verbose=0)\n",
    "#lr_decay = callbacks.LearningRateScheduler(schedule=lambda epoch: lr * (lr_decay * epoch * epoch))"
   ]
  },
  {
   "cell_type": "code",
   "execution_count": 7,
   "metadata": {},
   "outputs": [],
   "source": [
    "# compile the model\n",
    "model.compile(optimizer=optimizers.Adam(lr=lr),\n",
    "              loss=[margin_loss, 'mse'],\n",
    "              loss_weights=[1., lam_recon],\n",
    "              metrics={'capsnet': 'accuracy'})"
   ]
  },
  {
   "cell_type": "code",
   "execution_count": 8,
   "metadata": {},
   "outputs": [
    {
     "name": "stdout",
     "output_type": "stream",
     "text": [
      "Train on 60000 samples, validate on 10000 samples\n",
      "Epoch 1/50\n",
      "60000/60000 [==============================] - 120s 2ms/step - loss: 0.7870 - capsnet_loss: 0.7582 - decoder_loss: 0.0733 - capsnet_acc: 0.1607 - val_loss: 0.0962 - val_capsnet_loss: 0.0753 - val_decoder_loss: 0.0533 - val_capsnet_acc: 0.9534\n",
      "\n",
      "Epoch 00001: val_capsnet_acc improved from -inf to 0.95340, saving model to models/model-2d.h5\n",
      "Epoch 2/50\n",
      "60000/60000 [==============================] - 116s 2ms/step - loss: 0.0506 - capsnet_loss: 0.0312 - decoder_loss: 0.0497 - capsnet_acc: 0.9775 - val_loss: 0.0373 - val_capsnet_loss: 0.0193 - val_decoder_loss: 0.0459 - val_capsnet_acc: 0.9856\n",
      "\n",
      "Epoch 00002: val_capsnet_acc improved from 0.95340 to 0.98560, saving model to models/model-2d.h5\n",
      "Epoch 3/50\n",
      "60000/60000 [==============================] - 116s 2ms/step - loss: 0.0342 - capsnet_loss: 0.0170 - decoder_loss: 0.0440 - capsnet_acc: 0.9878 - val_loss: 0.0311 - val_capsnet_loss: 0.0146 - val_decoder_loss: 0.0421 - val_capsnet_acc: 0.9889\n",
      "\n",
      "Epoch 00003: val_capsnet_acc improved from 0.98560 to 0.98890, saving model to models/model-2d.h5\n",
      "Epoch 4/50\n",
      "60000/60000 [==============================] - 115s 2ms/step - loss: 0.0287 - capsnet_loss: 0.0123 - decoder_loss: 0.0417 - capsnet_acc: 0.9917 - val_loss: 0.0274 - val_capsnet_loss: 0.0113 - val_decoder_loss: 0.0410 - val_capsnet_acc: 0.9913\n",
      "\n",
      "Epoch 00004: val_capsnet_acc improved from 0.98890 to 0.99130, saving model to models/model-2d.h5\n",
      "Epoch 5/50\n",
      "60000/60000 [==============================] - 115s 2ms/step - loss: 0.0254 - capsnet_loss: 0.0094 - decoder_loss: 0.0409 - capsnet_acc: 0.9935 - val_loss: 0.0261 - val_capsnet_loss: 0.0101 - val_decoder_loss: 0.0407 - val_capsnet_acc: 0.9922\n",
      "\n",
      "Epoch 00005: val_capsnet_acc improved from 0.99130 to 0.99220, saving model to models/model-2d.h5\n",
      "Epoch 6/50\n",
      "60000/60000 [==============================] - 116s 2ms/step - loss: 0.0232 - capsnet_loss: 0.0073 - decoder_loss: 0.0404 - capsnet_acc: 0.9954 - val_loss: 0.0254 - val_capsnet_loss: 0.0096 - val_decoder_loss: 0.0404 - val_capsnet_acc: 0.9919\n",
      "\n",
      "Epoch 00006: val_capsnet_acc did not improve from 0.99220\n",
      "Epoch 7/50\n",
      "60000/60000 [==============================] - 116s 2ms/step - loss: 0.0217 - capsnet_loss: 0.0060 - decoder_loss: 0.0401 - capsnet_acc: 0.9964 - val_loss: 0.0253 - val_capsnet_loss: 0.0097 - val_decoder_loss: 0.0400 - val_capsnet_acc: 0.9928\n",
      "\n",
      "Epoch 00007: val_capsnet_acc improved from 0.99220 to 0.99280, saving model to models/model-2d.h5\n",
      "Epoch 8/50\n",
      "60000/60000 [==============================] - 115s 2ms/step - loss: 0.0201 - capsnet_loss: 0.0046 - decoder_loss: 0.0397 - capsnet_acc: 0.9977 - val_loss: 0.0239 - val_capsnet_loss: 0.0084 - val_decoder_loss: 0.0395 - val_capsnet_acc: 0.9923\n",
      "\n",
      "Epoch 00008: val_capsnet_acc did not improve from 0.99280\n",
      "Epoch 9/50\n",
      "60000/60000 [==============================] - 115s 2ms/step - loss: 0.0192 - capsnet_loss: 0.0038 - decoder_loss: 0.0394 - capsnet_acc: 0.9983 - val_loss: 0.0229 - val_capsnet_loss: 0.0074 - val_decoder_loss: 0.0395 - val_capsnet_acc: 0.9940\n",
      "\n",
      "Epoch 00009: val_capsnet_acc improved from 0.99280 to 0.99400, saving model to models/model-2d.h5\n",
      "Epoch 10/50\n",
      "60000/60000 [==============================] - 115s 2ms/step - loss: 0.0182 - capsnet_loss: 0.0029 - decoder_loss: 0.0391 - capsnet_acc: 0.9989 - val_loss: 0.0232 - val_capsnet_loss: 0.0079 - val_decoder_loss: 0.0389 - val_capsnet_acc: 0.9929\n",
      "\n",
      "Epoch 00010: val_capsnet_acc did not improve from 0.99400\n",
      "Epoch 11/50\n",
      "60000/60000 [==============================] - 115s 2ms/step - loss: 0.0176 - capsnet_loss: 0.0023 - decoder_loss: 0.0388 - capsnet_acc: 0.9992 - val_loss: 0.0243 - val_capsnet_loss: 0.0091 - val_decoder_loss: 0.0387 - val_capsnet_acc: 0.9923\n",
      "\n",
      "Epoch 00011: val_capsnet_acc did not improve from 0.99400\n",
      "Epoch 12/50\n",
      "60000/60000 [==============================] - 115s 2ms/step - loss: 0.0169 - capsnet_loss: 0.0019 - decoder_loss: 0.0384 - capsnet_acc: 0.9993 - val_loss: 0.0226 - val_capsnet_loss: 0.0075 - val_decoder_loss: 0.0386 - val_capsnet_acc: 0.9938\n",
      "\n",
      "Epoch 00012: val_capsnet_acc did not improve from 0.99400\n"
     ]
    },
    {
     "data": {
      "text/plain": [
       "<keras.callbacks.History at 0x7f1d5a5c1860>"
      ]
     },
     "execution_count": 8,
     "metadata": {},
     "output_type": "execute_result"
    }
   ],
   "source": [
    "model.fit([x_train, y_train], \n",
    "          [y_train, x_train], \n",
    "          batch_size=batch_size, \n",
    "          epochs=epochs,\n",
    "          validation_data=[[x_test, y_test], [y_test, x_test]], \n",
    "          callbacks=[earlystopper, checkpoint])"
   ]
  },
  {
   "cell_type": "code",
   "execution_count": 3,
   "metadata": {},
   "outputs": [
    {
     "name": "stderr",
     "output_type": "stream",
     "text": [
      "/usr/local/lib/python3.5/dist-packages/ipykernel_launcher.py:3: UserWarning: \n",
      "This call to matplotlib.use() has no effect because the backend has already\n",
      "been chosen; matplotlib.use() must be called *before* pylab, matplotlib.pyplot,\n",
      "or matplotlib.backends is imported for the first time.\n",
      "\n",
      "The backend was *originally* set to 'module://ipykernel.pylab.backend_inline' by the following code:\n",
      "  File \"/usr/lib/python3.5/runpy.py\", line 184, in _run_module_as_main\n",
      "    \"__main__\", mod_spec)\n",
      "  File \"/usr/lib/python3.5/runpy.py\", line 85, in _run_code\n",
      "    exec(code, run_globals)\n",
      "  File \"/usr/local/lib/python3.5/dist-packages/ipykernel_launcher.py\", line 16, in <module>\n",
      "    app.launch_new_instance()\n",
      "  File \"/usr/local/lib/python3.5/dist-packages/traitlets/config/application.py\", line 658, in launch_instance\n",
      "    app.start()\n",
      "  File \"/usr/local/lib/python3.5/dist-packages/ipykernel/kernelapp.py\", line 486, in start\n",
      "    self.io_loop.start()\n",
      "  File \"/usr/local/lib/python3.5/dist-packages/tornado/platform/asyncio.py\", line 127, in start\n",
      "    self.asyncio_loop.run_forever()\n",
      "  File \"/usr/lib/python3.5/asyncio/base_events.py\", line 345, in run_forever\n",
      "    self._run_once()\n",
      "  File \"/usr/lib/python3.5/asyncio/base_events.py\", line 1312, in _run_once\n",
      "    handle._run()\n",
      "  File \"/usr/lib/python3.5/asyncio/events.py\", line 125, in _run\n",
      "    self._callback(*self._args)\n",
      "  File \"/usr/local/lib/python3.5/dist-packages/tornado/platform/asyncio.py\", line 117, in _handle_events\n",
      "    handler_func(fileobj, events)\n",
      "  File \"/usr/local/lib/python3.5/dist-packages/tornado/stack_context.py\", line 276, in null_wrapper\n",
      "    return fn(*args, **kwargs)\n",
      "  File \"/usr/local/lib/python3.5/dist-packages/zmq/eventloop/zmqstream.py\", line 450, in _handle_events\n",
      "    self._handle_recv()\n",
      "  File \"/usr/local/lib/python3.5/dist-packages/zmq/eventloop/zmqstream.py\", line 480, in _handle_recv\n",
      "    self._run_callback(callback, msg)\n",
      "  File \"/usr/local/lib/python3.5/dist-packages/zmq/eventloop/zmqstream.py\", line 432, in _run_callback\n",
      "    callback(*args, **kwargs)\n",
      "  File \"/usr/local/lib/python3.5/dist-packages/tornado/stack_context.py\", line 276, in null_wrapper\n",
      "    return fn(*args, **kwargs)\n",
      "  File \"/usr/local/lib/python3.5/dist-packages/ipykernel/kernelbase.py\", line 283, in dispatcher\n",
      "    return self.dispatch_shell(stream, msg)\n",
      "  File \"/usr/local/lib/python3.5/dist-packages/ipykernel/kernelbase.py\", line 233, in dispatch_shell\n",
      "    handler(stream, idents, msg)\n",
      "  File \"/usr/local/lib/python3.5/dist-packages/ipykernel/kernelbase.py\", line 399, in execute_request\n",
      "    user_expressions, allow_stdin)\n",
      "  File \"/usr/local/lib/python3.5/dist-packages/ipykernel/ipkernel.py\", line 208, in do_execute\n",
      "    res = shell.run_cell(code, store_history=store_history, silent=silent)\n",
      "  File \"/usr/local/lib/python3.5/dist-packages/ipykernel/zmqshell.py\", line 537, in run_cell\n",
      "    return super(ZMQInteractiveShell, self).run_cell(*args, **kwargs)\n",
      "  File \"/usr/local/lib/python3.5/dist-packages/IPython/core/interactiveshell.py\", line 2666, in run_cell\n",
      "    self.events.trigger('post_run_cell', result)\n",
      "  File \"/usr/local/lib/python3.5/dist-packages/IPython/core/events.py\", line 88, in trigger\n",
      "    func(*args, **kwargs)\n",
      "  File \"/usr/local/lib/python3.5/dist-packages/ipykernel/pylab/backend_inline.py\", line 160, in configure_once\n",
      "    activate_matplotlib(backend)\n",
      "  File \"/usr/local/lib/python3.5/dist-packages/IPython/core/pylabtools.py\", line 311, in activate_matplotlib\n",
      "    matplotlib.pyplot.switch_backend(backend)\n",
      "  File \"/usr/local/lib/python3.5/dist-packages/matplotlib/pyplot.py\", line 231, in switch_backend\n",
      "    matplotlib.use(newbackend, warn=False, force=True)\n",
      "  File \"/usr/local/lib/python3.5/dist-packages/matplotlib/__init__.py\", line 1410, in use\n",
      "    reload(sys.modules['matplotlib.backends'])\n",
      "  File \"/usr/lib/python3.5/importlib/__init__.py\", line 166, in reload\n",
      "    _bootstrap._exec(spec, module)\n",
      "  File \"/usr/local/lib/python3.5/dist-packages/matplotlib/backends/__init__.py\", line 16, in <module>\n",
      "    line for line in traceback.format_stack()\n",
      "\n",
      "\n",
      "  This is separate from the ipykernel package so we can avoid doing imports until\n"
     ]
    }
   ],
   "source": [
    "import numpy as np\n",
    "import matplotlib as mpl\n",
    "mpl.use('Agg')\n",
    "import matplotlib.pyplot as plt"
   ]
  },
  {
   "cell_type": "code",
   "execution_count": 12,
   "metadata": {},
   "outputs": [
    {
     "data": {
      "image/png": "[encoded data removed]",
      "text/plain": [
       "<Figure size 432x288 with 1 Axes>"
      ]
     },
     "metadata": {},
     "output_type": "display_data"
    }
   ],
   "source": [
    "V = np.array([[1,1],[-2,2],[4,-7]])\n",
    "origin = [0], [0] # origin point\n",
    "\n",
    "plt.quiver(*origin, V[:,0], V[:,1], color=['r','b','g'], scale=5)\n",
    "plt.show()"
   ]
  },
  {
   "cell_type": "code",
   "execution_count": 5,
   "metadata": {},
   "outputs": [],
   "source": [
    "def squash(s):\n",
    "    pls = np.sum(s * s)\n",
    "    ls  = np.sqrt(pls)\n",
    "    return (pls/(1+pls))*(s / ls)"
   ]
  },
  {
   "cell_type": "code",
   "execution_count": 7,
   "metadata": {},
   "outputs": [],
   "source": [
    "sV = squash(V)"
   ]
  },
  {
   "cell_type": "code",
   "execution_count": 11,
   "metadata": {},
   "outputs": [
    {
     "data": {
      "image/png": "[encoded data removed]",
      "text/plain": [
       "<Figure size 432x288 with 1 Axes>"
      ]
     },
     "metadata": {},
     "output_type": "display_data"
    }
   ],
   "source": [
    "plt.quiver(*origin, sV[:,0], sV[:,1], color=['r','b','g'], scale=5)\n",
    "plt.show()"
   ]
  },
  {
   "cell_type": "code",
   "execution_count": 30,
   "metadata": {},
   "outputs": [],
   "source": [
    "a = np.array([10, 8, 10])\n",
    "def softmax(x):\n",
    "     return (np.exp(-x) / np.sum(np.exp(-x)))"
   ]
  },
  {
   "cell_type": "code",
   "execution_count": 31,
   "metadata": {},
   "outputs": [
    {
     "name": "stdout",
     "output_type": "stream",
     "text": [
      "[0.10650698 0.78698604 0.10650698]\n",
      "1.0000000000000002\n"
     ]
    }
   ],
   "source": [
    "soft_a = softmax(a)\n",
    "print(soft_a)\n",
    "print(np.sum(soft_a))"
   ]
  },
  {
   "cell_type": "code",
   "execution_count": 18,
   "metadata": {},
   "outputs": [],
   "source": [
    "a = np.array([10, 0, 0])\n",
    "def inv_softmax(x):\n",
    "     return 1 / (np.exp(x) / np.sum(np.exp(x)))"
   ]
  },
  {
   "cell_type": "code",
   "execution_count": 19,
   "metadata": {},
   "outputs": [
    {
     "name": "stdout",
     "output_type": "stream",
     "text": [
      "[1.00009080e+00 2.20284658e+04 2.20284658e+04]\n"
     ]
    }
   ],
   "source": [
    "inv_soft_a = inv_softmax(a)\n",
    "print(inv_soft_a)"
   ]
  },
  {
   "cell_type": "code",
   "execution_count": null,
   "metadata": {},
   "outputs": [],
   "source": []
  }
 ],
 "metadata": {
  "kernelspec": {
   "display_name": "Python 3",
   "language": "python",
   "name": "python3"
  },
  "language_info": {
   "codemirror_mode": {
    "name": "ipython",
    "version": 3
   },
   "file_extension": ".py",
   "mimetype": "text/x-python",
   "name": "python",
   "nbconvert_exporter": "python",
   "pygments_lexer": "ipython3",
   "version": "3.5.2"
  }
 },
 "nbformat": 4,
 "nbformat_minor": 2
}
